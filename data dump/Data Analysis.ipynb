{
 "cells": [
  {
   "cell_type": "code",
   "execution_count": 15,
   "metadata": {},
   "outputs": [],
   "source": [
    "import pandas as pd\n",
    "import matplotlib.pyplot as plt \n",
    "\n",
    "\n",
    "df = pd.read_csv(\"Payment_and_value_of_care_-_Hospital.csv\")\n",
    "df = df.loc[df[\"Denominator\"] != \"Not Available\", :]\n",
    "df = df[[\"Provider ID\", \"Hospital name\", \"City\", \"State\", \"Payment\", \"Payment category\", \"Value of care display name\", \"Value of care category\", ]]\n",
    "df.to_csv(\"Payment_and_value_of_care_-_Hospital_CLEAN.csv\", index=False)"
   ]
  },
  {
   "cell_type": "code",
   "execution_count": null,
   "metadata": {},
   "outputs": [],
   "source": []
  }
 ],
 "metadata": {
  "kernelspec": {
   "display_name": "Python 3",
   "language": "python",
   "name": "python3"
  },
  "language_info": {
   "codemirror_mode": {
    "name": "ipython",
    "version": 3
   },
   "file_extension": ".py",
   "mimetype": "text/x-python",
   "name": "python",
   "nbconvert_exporter": "python",
   "pygments_lexer": "ipython3",
   "version": "3.7.3"
  }
 },
 "nbformat": 4,
 "nbformat_minor": 2
}
