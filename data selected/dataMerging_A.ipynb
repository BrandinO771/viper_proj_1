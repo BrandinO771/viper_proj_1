{
 "cells": [
  {
   "cell_type": "code",
   "execution_count": 12,
   "metadata": {},
   "outputs": [],
   "source": [
    "import pandas as pd\n",
    "import matplotlib.pyplot as plt \n",
    "\n",
    "df_a = pd.read_csv(\"Inpatient_PYMT_IPPS_DRG_FY2017_CLEAN.csv\")\n",
    "df_b = pd.read_csv(\"Hospital_National_Evaluations_Survey_2017.csv\")\n",
    "df_c = pd.read_csv(\"pymt_value_of_care_hospital_cleaner.csv\")\n",
    "df_d = pd.read_csv(\"joint_only_2017_chrgs.csv\")"
   ]
  },
  {
   "cell_type": "code",
   "execution_count": 6,
   "metadata": {},
   "outputs": [],
   "source": [
    "search_1_item = '291 - HEART FAILURE & SHOCK W MCC'\n",
    "search_2_item = '392 - ESOPHAGITIS, GASTROENT & MISC DIGEST DISORDERS W/O MCC'\n",
    "search_3_item = '470 - MAJOR JOINT REPLACEMENT OR REATTACHMENT OF LOWER EXTREMITY W/O MCC'\n",
    "search_4_item = '638 - DIABETES W CC'\n",
    "search_5_item = '871 - SEPTICEMIA OR SEVERE SEPSIS W/O MV 96+ HOURS W MCC'\n",
    "\n",
    "df_a        = pd.read_csv(\"Inpatient_PYMT_IPPS_DRG_FY2017.csv\")\n",
    "joint_df    = df_a.loc[df_a[\"DRG Definition\"] == search_3_item,  :]\n",
    "diabetes_df = df_a.loc[df_a[\"DRG Definition\"] == search_4_item,   :]"
   ]
  },
  {
   "cell_type": "code",
   "execution_count": 16,
   "metadata": {},
   "outputs": [],
   "source": [
    "joint_df.to_csv(\"joint_only_2017_chrgs.csv\", index=False)\n",
    "diabetes_df.to_csv(\"diabetes_only_2017_chrgs.csv\", index=False)\n",
    "#charge_survey_rmrg = pd.merge(df_a, df_b, how = \"inner\" ,  on= \"Provider ID\" ) \n",
    "#charg_survey_mrg.to_csv(\"charge_survey_InnerMrgdata.csv\", index=False)"
   ]
  },
  {
   "cell_type": "code",
   "execution_count": 10,
   "metadata": {},
   "outputs": [],
   "source": [
    "output_mrg_a = pd.merge(df_d, df_b,  how = \"left\" ,  on= \"Provider ID\" )\n",
    "#output_mrg_a.to_csv(\"charge_survey_JOINT_LEFT_Mrgdata.csv\", index=False)"
   ]
  },
  {
   "cell_type": "code",
   "execution_count": 15,
   "metadata": {},
   "outputs": [],
   "source": [
    "# SEARCH TERM\n",
    "search_6_item = 'Payment for hip/knee replacement patients'\n",
    "# EXTRACT ONLY SEARCH TERM ROWS FROM SET\n",
    "extracted_data  = df_c.loc[df_c[\"Payment measure name\"] == search_6_item,  :]\n",
    "# READ FILE \n",
    "df_e = pd.read_csv(\"charge_survey_JOINT_LEFT_Mrgdata.csv\")\n",
    "# MERGE EXTRACTED WITH MOST UPDATED MERGE\n",
    "output_mrg_b = pd.merge(df_e, extracted_data,  how = \"left\" ,  on= \"Provider ID\" )\n",
    "# OUT PUT SAVE \n",
    "output_mrg_b.to_csv(\"chrg_survy_JOINT__FULLMERGE1_data.csv\", index=False)"
   ]
  },
  {
   "cell_type": "code",
   "execution_count": 17,
   "metadata": {},
   "outputs": [],
   "source": [
    "# MERGE DIABETES 1 \n",
    "# READ FILE \n",
    "df_f = pd.read_csv(\"diabetes_only_2017_chrgs.csv\")\n",
    "# MERGE EXTRACTED WITH MOST UPDATED MERGE\n",
    "output_mrg_b = pd.merge(df_f, df_b,  how = \"left\" ,  on= \"Provider ID\" )\n",
    "# OUT PUT SAVE \n",
    "output_mrg_b.to_csv(\"charge_survey_DIABETES_LEFT_Mrgdata.csv\", index=False)\n",
    "\n",
    "\n"
   ]
  },
  {
   "cell_type": "code",
   "execution_count": null,
   "metadata": {},
   "outputs": [],
   "source": []
  }
 ],
 "metadata": {
  "kernelspec": {
   "display_name": "Python 3",
   "language": "python",
   "name": "python3"
  },
  "language_info": {
   "codemirror_mode": {
    "name": "ipython",
    "version": 3
   },
   "file_extension": ".py",
   "mimetype": "text/x-python",
   "name": "python",
   "nbconvert_exporter": "python",
   "pygments_lexer": "ipython3",
   "version": "3.6.8"
  }
 },
 "nbformat": 4,
 "nbformat_minor": 2
}
